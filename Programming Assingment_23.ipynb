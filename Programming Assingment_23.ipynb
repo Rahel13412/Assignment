{
 "cells": [
  {
   "cell_type": "markdown",
   "id": "4a03489b",
   "metadata": {},
   "source": [
    "# Question 1\n",
    "Create a function that takes a number as an argument and returns True or False depending\n",
    "on whether the number is symmetrical or not. A number is symmetrical when it is the same as\n",
    "its reverse."
   ]
  },
  {
   "cell_type": "code",
   "execution_count": 6,
   "id": "48b608ae",
   "metadata": {},
   "outputs": [],
   "source": [
    "def is_symmetrical(number):\n",
    "    if number == number[::-1]:\n",
    "        return True\n",
    "    else:\n",
    "        return False\n"
   ]
  },
  {
   "cell_type": "code",
   "execution_count": 8,
   "id": "6c34c9bc",
   "metadata": {},
   "outputs": [
    {
     "name": "stdout",
     "output_type": "stream",
     "text": [
      "enter a number: 7227\n",
      "7227 is symmetrical : True\n",
      "\n",
      "\n",
      "enter a number: 12567\n",
      "12567 is symmetrical : False\n",
      "\n",
      "\n",
      "enter a number: 44444444\n",
      "44444444 is symmetrical : True\n",
      "\n",
      "\n",
      "enter a number: 9939\n",
      "9939 is symmetrical : False\n",
      "\n",
      "\n"
     ]
    }
   ],
   "source": [
    "n = 4\n",
    "while n > 0:\n",
    "    num = input(\"enter a number: \")\n",
    "    print(f\"{num} is symmetrical : {is_symmetrical(num)}\")\n",
    "    n-=1\n",
    "    print(\"\\n\")"
   ]
  },
  {
   "cell_type": "markdown",
   "id": "cb89b63d",
   "metadata": {},
   "source": [
    "# Question 2\n",
    "Given a string of numbers separated by a comma and space, return the product of the\n",
    "numbers."
   ]
  },
  {
   "cell_type": "code",
   "execution_count": 2,
   "id": "92f38b46",
   "metadata": {},
   "outputs": [
    {
     "name": "stdout",
     "output_type": "stream",
     "text": [
      "Enter the numbers seperated with spaces. 2, 3\n",
      "multiplication of 2, 3 is 6\n",
      "\n",
      "\n",
      "Enter the numbers seperated with spaces. 1, 2, 3, 4\n",
      "multiplication of 1, 2, 3, 4 is 24\n",
      "\n",
      "\n",
      "Enter the numbers seperated with spaces. 54, 75, 453, 0\n",
      "multiplication of 54, 75, 453, 0 is 0\n",
      "\n",
      "\n",
      "Enter the numbers seperated with spaces. 10, -2\n",
      "multiplication of 10, -2 is -20\n",
      "\n",
      "\n"
     ]
    }
   ],
   "source": [
    "def multiply(string):\n",
    "    mul = 1\n",
    "    list = string.split(\",\")\n",
    "    for item in list:\n",
    "        mul*=int(item)\n",
    "    return mul\n",
    "n = 4 \n",
    "while n > 0:\n",
    "    user_input = input(\"Enter the numbers seperated with spaces. \")\n",
    "    print(f\"multiplication of {user_input} is {multiply(user_input)}\")\n",
    "    print(\"\\n\")\n",
    "    n-=1"
   ]
  },
  {
   "cell_type": "markdown",
   "id": "d7d0c3ca",
   "metadata": {},
   "source": [
    "# Question 3\n",
    "Create a function that squares every digit of a number."
   ]
  },
  {
   "cell_type": "code",
   "execution_count": 11,
   "id": "8d235efd",
   "metadata": {},
   "outputs": [],
   "source": [
    "def square(number):\n",
    "    \n",
    "    square_of_digit = \"\"\n",
    "    for i in str(number):\n",
    "        square = (int(i))**2\n",
    "        square_of_digit+=str(square)\n",
    "    return int(square_of_digit)"
   ]
  },
  {
   "cell_type": "code",
   "execution_count": 14,
   "id": "01ff8619",
   "metadata": {},
   "outputs": [
    {
     "data": {
      "text/plain": [
       "811181"
      ]
     },
     "execution_count": 14,
     "metadata": {},
     "output_type": "execute_result"
    }
   ],
   "source": [
    "square(9119)"
   ]
  },
  {
   "cell_type": "code",
   "execution_count": 15,
   "id": "ca660716",
   "metadata": {},
   "outputs": [
    {
     "data": {
      "text/plain": [
       "416649"
      ]
     },
     "execution_count": 15,
     "metadata": {},
     "output_type": "execute_result"
    }
   ],
   "source": [
    "square(2483)"
   ]
  },
  {
   "cell_type": "code",
   "execution_count": 18,
   "id": "0cf824e6",
   "metadata": {},
   "outputs": [
    {
     "data": {
      "text/plain": [
       "9414"
      ]
     },
     "execution_count": 18,
     "metadata": {},
     "output_type": "execute_result"
    }
   ],
   "source": [
    "square(3212)"
   ]
  },
  {
   "cell_type": "markdown",
   "id": "f6fb34a7",
   "metadata": {},
   "source": [
    "# Question 4\n",
    "Create a function that sorts a list and removes all duplicate items from it."
   ]
  },
  {
   "cell_type": "code",
   "execution_count": 21,
   "id": "9af62f94",
   "metadata": {},
   "outputs": [],
   "source": [
    "def setify(list_1):\n",
    "    return list(set(list_1))"
   ]
  },
  {
   "cell_type": "code",
   "execution_count": 22,
   "id": "9bba9b5a",
   "metadata": {},
   "outputs": [
    {
     "data": {
      "text/plain": [
       "[1, 3, 5]"
      ]
     },
     "execution_count": 22,
     "metadata": {},
     "output_type": "execute_result"
    }
   ],
   "source": [
    "setify([1, 3, 3, 5, 5])"
   ]
  },
  {
   "cell_type": "code",
   "execution_count": 24,
   "id": "764601e4",
   "metadata": {},
   "outputs": [
    {
     "data": {
      "text/plain": [
       "[4]"
      ]
     },
     "execution_count": 24,
     "metadata": {},
     "output_type": "execute_result"
    }
   ],
   "source": [
    "setify([4, 4, 4, 4])"
   ]
  },
  {
   "cell_type": "code",
   "execution_count": 25,
   "id": "ac06d0fd",
   "metadata": {},
   "outputs": [
    {
     "data": {
      "text/plain": [
       "[5, 7, 8, 9, 10, 15]"
      ]
     },
     "execution_count": 25,
     "metadata": {},
     "output_type": "execute_result"
    }
   ],
   "source": [
    "setify([5, 7, 8, 9, 10, 15])"
   ]
  },
  {
   "cell_type": "code",
   "execution_count": 26,
   "id": "4e2616e2",
   "metadata": {},
   "outputs": [
    {
     "data": {
      "text/plain": [
       "[1, 2, 3]"
      ]
     },
     "execution_count": 26,
     "metadata": {},
     "output_type": "execute_result"
    }
   ],
   "source": [
    "setify([3, 3, 3, 2, 1])"
   ]
  },
  {
   "cell_type": "markdown",
   "id": "48e3206d",
   "metadata": {},
   "source": [
    "# Question 5\n",
    "Create a function that returns the mean of all digits."
   ]
  },
  {
   "cell_type": "code",
   "execution_count": 37,
   "id": "294019a0",
   "metadata": {},
   "outputs": [],
   "source": [
    "def mean(number):\n",
    "    sum = 0\n",
    "    for i in str(number):\n",
    "        sum+=int(i)\n",
    "    mean = sum/len(str(number))\n",
    "    return int(mean)"
   ]
  },
  {
   "cell_type": "code",
   "execution_count": 38,
   "id": "c682b65a",
   "metadata": {},
   "outputs": [
    {
     "data": {
      "text/plain": [
       "3"
      ]
     },
     "execution_count": 38,
     "metadata": {},
     "output_type": "execute_result"
    }
   ],
   "source": [
    "mean(42)"
   ]
  },
  {
   "cell_type": "code",
   "execution_count": 39,
   "id": "6edbeab5",
   "metadata": {},
   "outputs": [
    {
     "data": {
      "text/plain": [
       "3"
      ]
     },
     "execution_count": 39,
     "metadata": {},
     "output_type": "execute_result"
    }
   ],
   "source": [
    "mean(12345)"
   ]
  },
  {
   "cell_type": "code",
   "execution_count": 42,
   "id": "ac66448e",
   "metadata": {},
   "outputs": [
    {
     "data": {
      "text/plain": [
       "6"
      ]
     },
     "execution_count": 42,
     "metadata": {},
     "output_type": "execute_result"
    }
   ],
   "source": [
    "mean(666)"
   ]
  },
  {
   "cell_type": "code",
   "execution_count": null,
   "id": "a29a22ee",
   "metadata": {},
   "outputs": [],
   "source": []
  }
 ],
 "metadata": {
  "kernelspec": {
   "display_name": "Python 3 (ipykernel)",
   "language": "python",
   "name": "python3"
  },
  "language_info": {
   "codemirror_mode": {
    "name": "ipython",
    "version": 3
   },
   "file_extension": ".py",
   "mimetype": "text/x-python",
   "name": "python",
   "nbconvert_exporter": "python",
   "pygments_lexer": "ipython3",
   "version": "3.9.7"
  }
 },
 "nbformat": 4,
 "nbformat_minor": 5
}

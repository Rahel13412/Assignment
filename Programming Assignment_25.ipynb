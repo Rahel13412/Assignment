{
 "cells": [
  {
   "cell_type": "markdown",
   "id": "df4461c3",
   "metadata": {},
   "source": [
    "# Question1\n",
    "Create a function that takes three integer arguments (a, b, c) and returns the amount of\n",
    "integers which are of equal value."
   ]
  },
  {
   "cell_type": "code",
   "execution_count": 1,
   "id": "00b3d586",
   "metadata": {},
   "outputs": [
    {
     "name": "stdout",
     "output_type": "stream",
     "text": [
      "a: 3\n",
      "b: 4\n",
      "c: 3\n",
      "eual(3,4,3) : 2\n",
      "a: 1\n",
      "b: 1\n",
      "c: 1\n",
      "eual(1,1,1) : 3\n",
      "a: 3\n",
      "b: 4\n",
      "c: 1\n",
      "eual(3,4,1) : 0\n"
     ]
    }
   ],
   "source": [
    "def equal(a,b,c):\n",
    "    count = 0\n",
    "    list_1 = [a,b,c]\n",
    "    for item in list_1:\n",
    "        item_count = list_1.count(item)\n",
    "        if item_count > count and item_count>1:\n",
    "            count = item_count\n",
    "    return count\n",
    "num = 3\n",
    "while num > 0 :\n",
    "    a = int(input(\"a: \"))\n",
    "    b = int(input(\"b: \"))\n",
    "    c = int(input(\"c: \"))\n",
    "    \n",
    "    print(f\"eual({a},{b},{c}) : {equal(a,b,c)}\")\n",
    "    num-=1"
   ]
  },
  {
   "cell_type": "markdown",
   "id": "e39f7648",
   "metadata": {},
   "source": [
    "# Question2\n",
    "Write a function that converts a dictionary into a list of keys-values tuples."
   ]
  },
  {
   "cell_type": "code",
   "execution_count": 4,
   "id": "bac3fb37",
   "metadata": {},
   "outputs": [],
   "source": [
    "def dict_to_list(dictionary):\n",
    "    def my_function(elem):\n",
    "        return elem[0]\n",
    "        \n",
    "    list_1 = []\n",
    "    for key in dictionary:\n",
    "        value = dictionary[key]\n",
    "        item = (key,value)\n",
    "        list_1.append(item)\n",
    "    \n",
    "    list_1.sort(key = my_function)\n",
    "    sorted_list = list_1\n",
    "    return sorted_list\n",
    "    \n",
    "\n"
   ]
  },
  {
   "cell_type": "code",
   "execution_count": 5,
   "id": "e866bd69",
   "metadata": {},
   "outputs": [
    {
     "name": "stdout",
     "output_type": "stream",
     "text": [
      "[('B', 2), ('C', 3), ('D', 1)]\n"
     ]
    }
   ],
   "source": [
    "dict_1 = {\"D\":1,\"B\":2,\"C\":3}\n",
    "sorted_list = dict_to_list(dict_1)\n",
    "print(sorted_list)"
   ]
  },
  {
   "cell_type": "code",
   "execution_count": 6,
   "id": "8f8a710d",
   "metadata": {},
   "outputs": [
    {
     "name": "stdout",
     "output_type": "stream",
     "text": [
      "[('dislike', 3), ('followers', 10), ('likes', 2)]\n"
     ]
    }
   ],
   "source": [
    "dict_2 = {\"likes\":2,\"dislike\":3,\"followers\":10}\n",
    "sorted_list = dict_to_list(dict_2)\n",
    "print(sorted_list)"
   ]
  },
  {
   "cell_type": "markdown",
   "id": "c3f690e2",
   "metadata": {},
   "source": [
    "# Question3\n",
    "Write a function that creates a dictionary with each (key, value) pair being the (lower case,\n",
    "upper case) versions of a letter, respectively."
   ]
  },
  {
   "cell_type": "code",
   "execution_count": 12,
   "id": "6570133e",
   "metadata": {},
   "outputs": [
    {
     "name": "stdout",
     "output_type": "stream",
     "text": [
      "input the letters seperated with space. p s\n",
      "mapping(['p', 's']) :  {'p': 'P', 's': 'S'}\n",
      "\n",
      "\n",
      "input the letters seperated with space. a b c\n",
      "mapping(['a', 'b', 'c']) :  {'a': 'A', 'b': 'B', 'c': 'C'}\n",
      "\n",
      "\n",
      "input the letters seperated with space. a v y z\n",
      "mapping(['a', 'v', 'y', 'z']) :  {'a': 'A', 'v': 'V', 'y': 'Y', 'z': 'Z'}\n",
      "\n",
      "\n"
     ]
    }
   ],
   "source": [
    "def mapping(list_1):\n",
    "    dictionary_1 = {}\n",
    "    for item in list_1:\n",
    "        dictionary_1[item] = item.upper()\n",
    "    return (dictionary_1)\n",
    "num = 3\n",
    "while num > 0:\n",
    "    user_input = (input(\"input the letters seperated with space. \").lower()).split()\n",
    "    print(f\"mapping({user_input}) :  {mapping(user_input)}\")\n",
    "    print(\"\\n\")\n",
    "    num-=1\n",
    "    \n",
    "    "
   ]
  },
  {
   "cell_type": "markdown",
   "id": "833dfcd6",
   "metadata": {},
   "source": [
    "# Question4\n",
    "Write a function, that replaces all vowels in a string with a specified vowel."
   ]
  },
  {
   "cell_type": "code",
   "execution_count": 1,
   "id": "3df12bdf",
   "metadata": {},
   "outputs": [
    {
     "name": "stdout",
     "output_type": "stream",
     "text": [
      "Enter the string: apples and bananas\n",
      "Enter the letter : u\n",
      "vow_replace(apples and bananas , u) : upplus und bununus\n",
      "\n",
      "\n",
      "Enter the string: cheese casserole\n",
      "Enter the letter : o\n",
      "vow_replace(cheese casserole , o) : chooso cossorolo\n",
      "\n",
      "\n",
      "Enter the string: stuffed jalapeno poppers\n",
      "Enter the letter : e\n",
      "vow_replace(stuffed jalapeno poppers , e) : steffed jelepene peppers\n",
      "\n",
      "\n"
     ]
    }
   ],
   "source": [
    "def vow_replace(string,letter):\n",
    "    new_string = \"\"\n",
    "    for item in string:\n",
    "        if item in \"aeiou\":\n",
    "            new_string+=letter\n",
    "        else:\n",
    "            new_string+=item\n",
    "    return new_string\n",
    "    \n",
    "num = 3\n",
    "while num > 0:\n",
    "    user_string = input(\"Enter the string: \")\n",
    "    user_letter = input(\"Enter the letter : \")\n",
    "    num-=1\n",
    "    print(f\"vow_replace({user_string} , {user_letter}) : {vow_replace(user_string,user_letter)}\")\n",
    "    print(\"\\n\")"
   ]
  },
  {
   "cell_type": "markdown",
   "id": "a00a0c55",
   "metadata": {},
   "source": [
    "# Question5\n",
    "Create a function that takes a string as input and capitalizes a letter if its ASCII code is even\n",
    "and returns its lower case version if its ASCII code is odd."
   ]
  },
  {
   "cell_type": "code",
   "execution_count": 1,
   "id": "0eb1c71a",
   "metadata": {},
   "outputs": [
    {
     "name": "stdout",
     "output_type": "stream",
     "text": [
      "Enter the string: to be or not to be!\n",
      "to be or not to be!  :  To Be oR NoT To Be!\n",
      "\n",
      "\n",
      "Enter the string: THE LITTLE MERMAID\n",
      "THE LITTLE MERMAID  :  THe LiTTLe meRmaiD\n",
      "\n",
      "\n",
      "Enter the string: oh what a beautiful morning.\n",
      "oh what a beautiful morning.  :  oH wHaT a BeauTiFuL moRNiNg.\n",
      "\n",
      "\n"
     ]
    }
   ],
   "source": [
    "def ascii_capitalize(string):\n",
    "    \n",
    "    new_string = \"\"\n",
    "    for item in string:\n",
    "        if type(item)==str:\n",
    "            if ord(item)%2==0:\n",
    "                new_string+=item.upper()\n",
    "            else:\n",
    "                new_string+=item.lower()\n",
    "                \n",
    "        else:\n",
    "            new_string+=item\n",
    "    return new_string\n",
    "\n",
    "num = 3 \n",
    "while num> 0:\n",
    "    user_string  = input(\"Enter the string: \")\n",
    "    format_string = ascii_capitalize(user_string)\n",
    "    print(f\"{user_string}  :  {format_string}\")\n",
    "    print(\"\\n\")\n",
    "    num-=1"
   ]
  }
 ],
 "metadata": {
  "kernelspec": {
   "display_name": "Python 3 (ipykernel)",
   "language": "python",
   "name": "python3"
  },
  "language_info": {
   "codemirror_mode": {
    "name": "ipython",
    "version": 3
   },
   "file_extension": ".py",
   "mimetype": "text/x-python",
   "name": "python",
   "nbconvert_exporter": "python",
   "pygments_lexer": "ipython3",
   "version": "3.9.7"
  }
 },
 "nbformat": 4,
 "nbformat_minor": 5
}

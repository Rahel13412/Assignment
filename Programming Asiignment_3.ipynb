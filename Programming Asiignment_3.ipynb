{
 "cells": [
  {
   "cell_type": "raw",
   "id": "b8c68297",
   "metadata": {},
   "source": [
    "1. Write a Python Program to Check if a Number is Positive, Negative or Zero?\n"
   ]
  },
  {
   "cell_type": "code",
   "execution_count": 2,
   "id": "f1447f97",
   "metadata": {},
   "outputs": [
    {
     "name": "stdout",
     "output_type": "stream",
     "text": [
      "Enter the number: -4\n",
      "-4 is a Negative number.\n"
     ]
    }
   ],
   "source": [
    "num  = int(input(\"Enter the number: \"))\n",
    "if num > 0 :\n",
    "    print(f\"{num} is a positive number.\")\n",
    "elif num < 0:\n",
    "    print(f\"{num} is a Negative number.\")\n",
    "else:\n",
    "    print(f\"{num} is Zero\")"
   ]
  },
  {
   "cell_type": "raw",
   "id": "dbd40cee",
   "metadata": {},
   "source": [
    "2. Write a Python Program to Check if a Number is Odd or Even?"
   ]
  },
  {
   "cell_type": "code",
   "execution_count": 3,
   "id": "2b8758a6",
   "metadata": {},
   "outputs": [
    {
     "name": "stdout",
     "output_type": "stream",
     "text": [
      "Enter the number: 7\n",
      "7 is a odd number.\n"
     ]
    }
   ],
   "source": [
    "num = int(input(\"Enter the number: \"))\n",
    "if num%2==0:\n",
    "    print(f\"{num} is a even number.\")\n",
    "else:\n",
    "    print(f\"{num} is a odd number.\")"
   ]
  },
  {
   "cell_type": "raw",
   "id": "9e8bbbf5",
   "metadata": {},
   "source": [
    "3. Write a Python Program to Check Leap Year?"
   ]
  },
  {
   "cell_type": "code",
   "execution_count": 4,
   "id": "be177c64",
   "metadata": {},
   "outputs": [
    {
     "name": "stdout",
     "output_type": "stream",
     "text": [
      "Enter your preffered year:2022\n",
      "2022 is not a leap year\n"
     ]
    }
   ],
   "source": [
    "# Leap year check \n",
    "year = int(input(\"Enter your preffered year:\"))\n",
    "if year % 4 == 0 :\n",
    "    if year % 100 == 0:\n",
    "        if year % 400 == 0:\n",
    "            print(f\"{year} is  a leap year\")\n",
    "        else:\n",
    "            print(f\"{year} is not a leap year\")\n",
    "    else:\n",
    "        print(f\"{year} is  a leap year\")\n",
    "else :\n",
    "    print(f\"{year} is not a leap year\")"
   ]
  },
  {
   "cell_type": "raw",
   "id": "5911f17d",
   "metadata": {},
   "source": [
    "4. Write a Python Program to Check Prime Number?\n",
    "\n"
   ]
  },
  {
   "cell_type": "code",
   "execution_count": 5,
   "id": "1be65c21",
   "metadata": {},
   "outputs": [
    {
     "name": "stdout",
     "output_type": "stream",
     "text": [
      "enter the number : 7\n",
      "7 it is a prime number.\n"
     ]
    }
   ],
   "source": [
    "\n",
    "def prime_checker(number):\n",
    "    is_prime = True\n",
    "    for i in range(2,number):\n",
    "        if number % i == 0 :\n",
    "            is_prime = False \n",
    "            \n",
    "    if is_prime:\n",
    "        print(f\"{num} it is a prime number.\")\n",
    "    else :\n",
    "        print(f\"{num} it is not a prime number.\")\n",
    "\n",
    "num = int(input(\"enter the number : \")) \n",
    "prime_checker(num)"
   ]
  },
  {
   "cell_type": "raw",
   "id": "0da34224",
   "metadata": {},
   "source": [
    "5. Write a Python Program to Print all Prime Numbers in an Interval of 1-100?"
   ]
  },
  {
   "cell_type": "code",
   "execution_count": 9,
   "id": "9ace7f51",
   "metadata": {},
   "outputs": [
    {
     "name": "stdout",
     "output_type": "stream",
     "text": [
      "2\n",
      "3\n",
      "5\n",
      "7\n",
      "11\n",
      "13\n",
      "17\n",
      "19\n",
      "23\n",
      "29\n",
      "31\n",
      "37\n",
      "41\n",
      "43\n",
      "47\n",
      "53\n",
      "59\n",
      "61\n",
      "67\n",
      "71\n",
      "73\n",
      "79\n",
      "83\n",
      "89\n",
      "97\n"
     ]
    }
   ],
   "source": [
    "def prime_checker(number):\n",
    "    if number>1:\n",
    "        is_prime = True\n",
    "        for i in range(2,number):\n",
    "            if number % i == 0 :\n",
    "                is_prime = False \n",
    "\n",
    "        if is_prime:\n",
    "            print(number)\n",
    "    #else :\n",
    "        #print(f\"{num} it is not a prime number.\")\n",
    "for i in range(1,101):\n",
    "    num = i \n",
    "    prime_checker(num)"
   ]
  },
  {
   "cell_type": "code",
   "execution_count": null,
   "id": "c75b77a2",
   "metadata": {},
   "outputs": [],
   "source": []
  }
 ],
 "metadata": {
  "kernelspec": {
   "display_name": "Python 3 (ipykernel)",
   "language": "python",
   "name": "python3"
  },
  "language_info": {
   "codemirror_mode": {
    "name": "ipython",
    "version": 3
   },
   "file_extension": ".py",
   "mimetype": "text/x-python",
   "name": "python",
   "nbconvert_exporter": "python",
   "pygments_lexer": "ipython3",
   "version": "3.9.7"
  }
 },
 "nbformat": 4,
 "nbformat_minor": 5
}

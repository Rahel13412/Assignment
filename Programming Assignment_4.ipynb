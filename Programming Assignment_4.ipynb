{
 "cells": [
  {
   "cell_type": "code",
   "execution_count": 17,
   "id": "8feb3ed2",
   "metadata": {},
   "outputs": [
    {
     "name": "stdout",
     "output_type": "stream",
     "text": [
      "Enter the number: 4\n",
      "The factorial of number 4 is 24\n"
     ]
    }
   ],
   "source": [
    "# 1. Write a Python Program to Find the Factorial of a Number?\n",
    " \n",
    "number = int(input(\"Enter the number: \"))\n",
    "factorial = number \n",
    "for i in range(1,number):\n",
    "    factorial*=(number-i)\n",
    "print(f\"The factorial of number {number} is {factorial}\")"
   ]
  },
  {
   "cell_type": "code",
   "execution_count": 19,
   "id": "b04ae367",
   "metadata": {},
   "outputs": [
    {
     "name": "stdout",
     "output_type": "stream",
     "text": [
      "Enter the number. 5\n",
      "the table of 5 is :\n",
      "5*1 = 5\n",
      "5*2 = 10\n",
      "5*3 = 15\n",
      "5*4 = 20\n",
      "5*5 = 25\n",
      "5*6 = 30\n",
      "5*7 = 35\n",
      "5*8 = 40\n",
      "5*9 = 45\n",
      "5*10 = 50\n"
     ]
    }
   ],
   "source": [
    "# 2. Write a Python Program to Display the multiplication Table?\n",
    "number = int(input(\"Enter the number. \"))\n",
    "print(f\"the table of {number} is :\")\n",
    "for i in range(1,11):\n",
    "    \n",
    "    print(f\"{number}*{i} = {number*i}\")\n",
    "    \n"
   ]
  },
  {
   "cell_type": "code",
   "execution_count": 10,
   "id": "6011d5e3",
   "metadata": {},
   "outputs": [
    {
     "name": "stdout",
     "output_type": "stream",
     "text": [
      "Enter the terms: 6\n",
      "0 1 1 2 3 5 "
     ]
    }
   ],
   "source": [
    "# 3. Write a Python Program to Print the Fibonacci sequence?\n",
    "a=int(input(\"Enter the terms: \"))\n",
    "f=0                                         #first element of series\n",
    "s=1                                         #second element of series\n",
    "if a<=0:\n",
    "    print(\"The requested series is\",f)\n",
    "else:\n",
    "    print(f,s,end=\" \")\n",
    "    for x in range(2,a):\n",
    "        next=f+s                           \n",
    "        print(next,end=\" \")\n",
    "        f=s\n",
    "        s=next"
   ]
  },
  {
   "cell_type": "code",
   "execution_count": 2,
   "id": "5e03d907",
   "metadata": {},
   "outputs": [
    {
     "name": "stdout",
     "output_type": "stream",
     "text": [
      "enter the number: 153\n",
      "153 is a armstrong number.\n"
     ]
    }
   ],
   "source": [
    "# 4. Write a Python Program to Check Armstrong Number?\n",
    "\n",
    "number = int(input(\"enter the number: \"))\n",
    "sum  = 0 \n",
    "for digit in str(number):\n",
    "    digit_cube = (int(digit))**len(str(number))\n",
    "    sum+=digit_cube\n",
    "if number == sum :\n",
    "    print(f\"{number} is a armstrong number.\")\n",
    "else:\n",
    "    print(f\"{number} is not a armstrong number.\")"
   ]
  },
  {
   "cell_type": "code",
   "execution_count": 1,
   "id": "cf916d90",
   "metadata": {},
   "outputs": [
    {
     "name": "stdout",
     "output_type": "stream",
     "text": [
      "1 is a armstrong number.\n",
      "2 is a armstrong number.\n",
      "3 is a armstrong number.\n",
      "4 is a armstrong number.\n",
      "5 is a armstrong number.\n",
      "6 is a armstrong number.\n",
      "7 is a armstrong number.\n",
      "8 is a armstrong number.\n",
      "9 is a armstrong number.\n",
      "10 is not a armstrong number.\n",
      "11 is not a armstrong number.\n",
      "12 is not a armstrong number.\n",
      "13 is not a armstrong number.\n",
      "14 is not a armstrong number.\n",
      "15 is not a armstrong number.\n",
      "16 is not a armstrong number.\n",
      "17 is not a armstrong number.\n",
      "18 is not a armstrong number.\n",
      "19 is not a armstrong number.\n"
     ]
    }
   ],
   "source": [
    "# 5. Write a Python Program to Find Armstrong Number in an Interval?\n",
    "\n",
    "def armstrong_number(number):\n",
    "    sum  = 0 \n",
    "    for digit in str(number):\n",
    "        digit_cube = (int(digit))**len(str(number))\n",
    "        sum+=digit_cube\n",
    "    if number == sum :\n",
    "        print(f\"{number} is a armstrong number.\")\n",
    "    else:\n",
    "        print(f\"{number} is not a armstrong number.\")\n",
    "   \n",
    "for i in range(1,20):\n",
    "    number = i\n",
    "    armstrong_number(number)\n",
    "    "
   ]
  },
  {
   "cell_type": "code",
   "execution_count": 4,
   "id": "676e02c6",
   "metadata": {},
   "outputs": [
    {
     "name": "stdout",
     "output_type": "stream",
     "text": [
      "Enter the number : 100\n",
      "sum of first 100 Natural Numbers is 5050.0\n"
     ]
    }
   ],
   "source": [
    "# 6. Write a Python Program to Find the Sum of Natural Numbers?\n",
    "\n",
    "number = int(input(\"Enter the number : \"))\n",
    "sum = (number*(number+1))/2\n",
    "print(f\"sum of first {number} Natural Numbers is {sum}\")"
   ]
  },
  {
   "cell_type": "code",
   "execution_count": null,
   "id": "9b33ebac",
   "metadata": {},
   "outputs": [],
   "source": []
  }
 ],
 "metadata": {
  "kernelspec": {
   "display_name": "Python 3 (ipykernel)",
   "language": "python",
   "name": "python3"
  },
  "language_info": {
   "codemirror_mode": {
    "name": "ipython",
    "version": 3
   },
   "file_extension": ".py",
   "mimetype": "text/x-python",
   "name": "python",
   "nbconvert_exporter": "python",
   "pygments_lexer": "ipython3",
   "version": "3.9.7"
  }
 },
 "nbformat": 4,
 "nbformat_minor": 5
}

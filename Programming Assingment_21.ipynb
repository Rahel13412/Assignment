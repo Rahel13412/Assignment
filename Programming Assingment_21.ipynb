{
 "cells": [
  {
   "cell_type": "markdown",
   "id": "0728498a",
   "metadata": {},
   "source": [
    "# Question1\n",
    "Write a function that takes a list and a number as arguments. Add the number to the end of\n",
    "the list, then remove the first element of the list. The function should then return the updated\n",
    "list."
   ]
  },
  {
   "cell_type": "code",
   "execution_count": 10,
   "id": "94c51faf",
   "metadata": {},
   "outputs": [],
   "source": [
    "def next_in_line(list,number):\n",
    "    list.append(number)\n",
    "    list.remove(list[0])\n",
    "    return list\n"
   ]
  },
  {
   "cell_type": "code",
   "execution_count": 11,
   "id": "898983c7",
   "metadata": {},
   "outputs": [
    {
     "data": {
      "text/plain": [
       "[6, 7, 8, 9, 1]"
      ]
     },
     "execution_count": 11,
     "metadata": {},
     "output_type": "execute_result"
    }
   ],
   "source": [
    "next_in_line([5, 6, 7, 8, 9], 1) "
   ]
  },
  {
   "cell_type": "code",
   "execution_count": 12,
   "id": "1c7af428",
   "metadata": {},
   "outputs": [
    {
     "data": {
      "text/plain": [
       "[6, 3, 23, 17, 10]"
      ]
     },
     "execution_count": 12,
     "metadata": {},
     "output_type": "execute_result"
    }
   ],
   "source": [
    "next_in_line([7, 6, 3, 23, 17], 10)"
   ]
  },
  {
   "cell_type": "code",
   "execution_count": 13,
   "id": "86dad3d1",
   "metadata": {},
   "outputs": [
    {
     "data": {
      "text/plain": [
       "[10, 20, 42, 6]"
      ]
     },
     "execution_count": 13,
     "metadata": {},
     "output_type": "execute_result"
    }
   ],
   "source": [
    "next_in_line([1, 10, 20, 42 ], 6)"
   ]
  },
  {
   "cell_type": "code",
   "execution_count": 14,
   "id": "81ad13a1",
   "metadata": {},
   "outputs": [
    {
     "data": {
      "text/plain": [
       "[]"
      ]
     },
     "execution_count": 14,
     "metadata": {},
     "output_type": "execute_result"
    }
   ],
   "source": [
    "next_in_line([], 6)"
   ]
  },
  {
   "cell_type": "markdown",
   "id": "8f69b93e",
   "metadata": {},
   "source": [
    "# Question2\n",
    "Create the function that takes a list of dictionaries and returns the sum of people&#39;s budgets."
   ]
  },
  {
   "cell_type": "code",
   "execution_count": 16,
   "id": "b6442e3f",
   "metadata": {},
   "outputs": [],
   "source": [
    "def get_budgets(list):\n",
    "    people_budget = 0\n",
    "    for i in list:\n",
    "        budget = i[\"budget\"]\n",
    "        people_budget+=budget\n",
    "    return people_budget\n",
    "\n",
    "    \n",
    "    "
   ]
  },
  {
   "cell_type": "code",
   "execution_count": 17,
   "id": "c8cc1179",
   "metadata": {},
   "outputs": [
    {
     "data": {
      "text/plain": [
       "65700"
      ]
     },
     "execution_count": 17,
     "metadata": {},
     "output_type": "execute_result"
    }
   ],
   "source": [
    "get_budgets([\n",
    "{\"name\": \"John\", \"age\": 21, \"budget\": 23000 },\n",
    "{ \"name\": \"Steve\", \"age\": 32, \"budget\": 40000 },\n",
    "{\"name\": \"Martin\", \"age\": 16, \"budget\": 2700 }\n",
    "]) "
   ]
  },
  {
   "cell_type": "markdown",
   "id": "611e2388",
   "metadata": {},
   "source": [
    "# Question3\n",
    "Create a function that takes a string and returns a string with its letters in alphabetical order."
   ]
  },
  {
   "cell_type": "code",
   "execution_count": 20,
   "id": "e1939864",
   "metadata": {},
   "outputs": [],
   "source": [
    "def alphabet_soup(string):\n",
    "    list_1 = []\n",
    "    for i in string:\n",
    "        list_1.append(i)\n",
    "    list_1.sort()\n",
    "    formated_string = \"\"\n",
    "    for i in list_1:\n",
    "        formated_string+=i\n",
    "    return formated_string\n",
    "        "
   ]
  },
  {
   "cell_type": "code",
   "execution_count": 21,
   "id": "e45790e8",
   "metadata": {},
   "outputs": [
    {
     "data": {
      "text/plain": [
       "'ehllo'"
      ]
     },
     "execution_count": 21,
     "metadata": {},
     "output_type": "execute_result"
    }
   ],
   "source": [
    "alphabet_soup(\"hello\") "
   ]
  },
  {
   "cell_type": "code",
   "execution_count": 22,
   "id": "ec3c6799",
   "metadata": {},
   "outputs": [
    {
     "data": {
      "text/plain": [
       "'abdeit'"
      ]
     },
     "execution_count": 22,
     "metadata": {},
     "output_type": "execute_result"
    }
   ],
   "source": [
    "alphabet_soup(\"edabit\") "
   ]
  },
  {
   "cell_type": "code",
   "execution_count": 23,
   "id": "f5ce61d4",
   "metadata": {},
   "outputs": [
    {
     "data": {
      "text/plain": [
       "'eegk'"
      ]
     },
     "execution_count": 23,
     "metadata": {},
     "output_type": "execute_result"
    }
   ],
   "source": [
    "alphabet_soup(\"geek\") "
   ]
  },
  {
   "cell_type": "markdown",
   "id": "10b2b8df",
   "metadata": {},
   "source": [
    "# Question4\n",
    "Suppose that you invest $10,000 for 10 years at an interest rate of 6% compounded monthly.\n",
    "What will be the value of your investment at the end of the 10 year period?"
   ]
  },
  {
   "cell_type": "code",
   "execution_count": 33,
   "id": "ed0cbb1a",
   "metadata": {},
   "outputs": [],
   "source": [
    "def compound_interest(p,t,r,n):\n",
    "    amount = p*(1+(r/n))**(n*t)\n",
    "    return round(amount,2)\n",
    "    \n",
    "    "
   ]
  },
  {
   "cell_type": "code",
   "execution_count": 42,
   "id": "15c8b595",
   "metadata": {},
   "outputs": [
    {
     "data": {
      "text/plain": [
       "18193.97"
      ]
     },
     "execution_count": 42,
     "metadata": {},
     "output_type": "execute_result"
    }
   ],
   "source": [
    "compound_interest(p=10000, t=10, r=0.06, n=12)"
   ]
  },
  {
   "cell_type": "code",
   "execution_count": 38,
   "id": "ea979e31",
   "metadata": {},
   "outputs": [
    {
     "data": {
      "text/plain": [
       "105.0"
      ]
     },
     "execution_count": 38,
     "metadata": {},
     "output_type": "execute_result"
    }
   ],
   "source": [
    "compound_interest( p=100, t=1, r=0.05, n=1)"
   ]
  },
  {
   "cell_type": "code",
   "execution_count": 37,
   "id": "7daad659",
   "metadata": {},
   "outputs": [
    {
     "data": {
      "text/plain": [
       "15399.26"
      ]
     },
     "execution_count": 37,
     "metadata": {},
     "output_type": "execute_result"
    }
   ],
   "source": [
    "compound_interest(p=3500, t=15, r=0.1, n=4)"
   ]
  },
  {
   "cell_type": "code",
   "execution_count": 40,
   "id": "8dc016e3",
   "metadata": {},
   "outputs": [
    {
     "data": {
      "text/plain": [
       "2007316.26"
      ]
     },
     "execution_count": 40,
     "metadata": {},
     "output_type": "execute_result"
    }
   ],
   "source": [
    "compound_interest(p=100000, t=20, r=0.15, n=365)"
   ]
  },
  {
   "cell_type": "code",
   "execution_count": null,
   "id": "79011fac",
   "metadata": {},
   "outputs": [],
   "source": []
  }
 ],
 "metadata": {
  "kernelspec": {
   "display_name": "Python 3 (ipykernel)",
   "language": "python",
   "name": "python3"
  },
  "language_info": {
   "codemirror_mode": {
    "name": "ipython",
    "version": 3
   },
   "file_extension": ".py",
   "mimetype": "text/x-python",
   "name": "python",
   "nbconvert_exporter": "python",
   "pygments_lexer": "ipython3",
   "version": "3.9.7"
  }
 },
 "nbformat": 4,
 "nbformat_minor": 5
}

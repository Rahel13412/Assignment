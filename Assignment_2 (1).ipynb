{
 "cells": [
  {
   "cell_type": "raw",
   "id": "f05cc7d5",
   "metadata": {},
   "source": [
    "# 1.What are the two values of the Boolean data type? How do you write them?\n",
    "Ans: the two values of the boolean data type is True and False"
   ]
  },
  {
   "cell_type": "raw",
   "id": "0f3da99f",
   "metadata": {},
   "source": [
    "2.What are the three different types of Boolean operators?\n",
    "Ans: the three different types of boolean operator are AND OR and NOT"
   ]
  },
  {
   "cell_type": "raw",
   "id": "f8654041",
   "metadata": {},
   "source": [
    "4. What are the values of the following expressions?\n",
    "(5 > 4) and (3 == 5) : False\n",
    "not (5 > 4) : False\n",
    "not ((5 > 4) or (3 == 5)) : False\n",
    "(True and True) and (True == False) : False\n",
    "(not False) or (not True) = True"
   ]
  },
  {
   "cell_type": "raw",
   "id": "751c04e3",
   "metadata": {},
   "source": [
    "5. What are the six comparison operators?\n",
    " Python has six comparison operators: less than ( < ), less than or equal to ( <= ), greater than ( > ), greater than or equal to ( >= ), equal to ( == ), and not equal to ( != )."
   ]
  },
  {
   "cell_type": "raw",
   "id": "f117dcd3",
   "metadata": {},
   "source": [
    "6. How do you tell the difference between the equal to and assignment operators?Describe a\n",
    "condition and when you would use one.\n",
    "Ans: \"=\" is used to assign a value to a variable and \"==\" operator checks whether the two given operands are equal or not. \n",
    "\n",
    "example:\n",
    "age = 18\n",
    "if age == 18: \n",
    "   print(\"you can drive\")"
   ]
  }
 ],
 "metadata": {
  "kernelspec": {
   "display_name": "Python 3 (ipykernel)",
   "language": "python",
   "name": "python3"
  },
  "language_info": {
   "codemirror_mode": {
    "name": "ipython",
    "version": 3
   },
   "file_extension": ".py",
   "mimetype": "text/x-python",
   "name": "python",
   "nbconvert_exporter": "python",
   "pygments_lexer": "ipython3",
   "version": "3.9.7"
  }
 },
 "nbformat": 4,
 "nbformat_minor": 5
}

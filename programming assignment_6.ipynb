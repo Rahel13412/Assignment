{
 "cells": [
  {
   "cell_type": "code",
   "execution_count": 4,
   "id": "60617fc0",
   "metadata": {},
   "outputs": [
    {
     "name": "stdout",
     "output_type": "stream",
     "text": [
      "Enter the nth terms5\n",
      "Fibonacci sequence:\n",
      "0\n",
      "1\n",
      "1\n",
      "2\n",
      "3\n"
     ]
    }
   ],
   "source": [
    "# Python program to display the Fibonacci sequence\n",
    "\n",
    "def recur_fibo(n):\n",
    "   if n <= 1:\n",
    "       return n\n",
    "   else:\n",
    "       return(recur_fibo(n-1) + recur_fibo(n-2))\n",
    "\n",
    "nterms = int(input(\"Enter the nth terms\"))\n",
    "\n",
    "# check if the number of terms is valid\n",
    "if nterms <= 0:\n",
    "   print(\"Plese enter a positive integer\")\n",
    "else:\n",
    "   print(\"Fibonacci sequence:\")\n",
    "   for i in range(nterms):\n",
    "       print(recur_fibo(i))\n"
   ]
  },
  {
   "cell_type": "code",
   "execution_count": 8,
   "id": "4f1ddb6c",
   "metadata": {},
   "outputs": [
    {
     "name": "stdout",
     "output_type": "stream",
     "text": [
      "Enter the number: 5\n",
      "the factorial of 5 is 120\n"
     ]
    }
   ],
   "source": [
    "#2. Write a Python Program to Find Factorial of Number Using Recursion?\n",
    "def factorial(number):\n",
    "    factorial = number\n",
    "    for i in range(1,number):\n",
    "        factorial*=(number-i)\n",
    "    return factorial\n",
    "    \n",
    "number = int(input(\"Enter the number: \"))\n",
    "print(f\"the factorial of {number} is {factorial(number)}\")"
   ]
  },
  {
   "cell_type": "code",
   "execution_count": 12,
   "id": "db13a356",
   "metadata": {},
   "outputs": [
    {
     "name": "stdout",
     "output_type": "stream",
     "text": [
      "Enter your height in cm . 165\n",
      "Enter your weight in kg. 80\n",
      "your bmi is 29.38\n"
     ]
    }
   ],
   "source": [
    "# 3. Write a Python Program to calculate your Body Mass Index?\n",
    "def bmi_calculator(weight,height):\n",
    "    bmi = weight/(height**2)\n",
    "    return bmi\n",
    "user_height = int(input(\"Enter your height in cm . \")) * 0.01\n",
    "user_weight = int(input(\"Enter your weight in kg. \"))\n",
    "bmi = round(bmi_calculator(user_weight,user_height),2)\n",
    "print(f\"your bmi is {bmi}\")"
   ]
  },
  {
   "cell_type": "code",
   "execution_count": 14,
   "id": "33168ed3",
   "metadata": {},
   "outputs": [
    {
     "name": "stdout",
     "output_type": "stream",
     "text": [
      "Enter the number. 1\n",
      "the Natural Logarithm of number 1 is 0.0\n"
     ]
    }
   ],
   "source": [
    "# 4. Write a Python Program to calculate the natural logarithm of any number?\n",
    "import math \n",
    "def logarithm(number):\n",
    "    return (math.log(number))\n",
    "num = int(input(\"Enter the number. \"))\n",
    "print(f\"the Natural Logarithm of number {num} is {logarithm(num)}\")"
   ]
  },
  {
   "cell_type": "code",
   "execution_count": 16,
   "id": "dcd66a2f",
   "metadata": {},
   "outputs": [
    {
     "name": "stdout",
     "output_type": "stream",
     "text": [
      "Enter the number. 5\n",
      "cube sum of first 5 natural numbers is 225.0\n"
     ]
    }
   ],
   "source": [
    "# 5. Write a Python Program for cube sum of first n natural numbers?\n",
    "def cube_sum(number):\n",
    "    sum =((number**2)*((number+1)**2))/4\n",
    "    return sum\n",
    "num  = int(input(\"Enter the number. \"))\n",
    "print(f\"cube sum of first {num} natural numbers is {cube_sum(num)}\")"
   ]
  },
  {
   "cell_type": "code",
   "execution_count": null,
   "id": "dbeb20c2",
   "metadata": {},
   "outputs": [],
   "source": []
  }
 ],
 "metadata": {
  "kernelspec": {
   "display_name": "Python 3 (ipykernel)",
   "language": "python",
   "name": "python3"
  },
  "language_info": {
   "codemirror_mode": {
    "name": "ipython",
    "version": 3
   },
   "file_extension": ".py",
   "mimetype": "text/x-python",
   "name": "python",
   "nbconvert_exporter": "python",
   "pygments_lexer": "ipython3",
   "version": "3.9.7"
  }
 },
 "nbformat": 4,
 "nbformat_minor": 5
}

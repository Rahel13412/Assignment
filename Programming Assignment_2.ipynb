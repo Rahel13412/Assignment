{
 "cells": [
  {
   "cell_type": "raw",
   "id": "202e0811",
   "metadata": {},
   "source": [
    "1. Write a Python program to convert kilometers to miles?"
   ]
  },
  {
   "cell_type": "code",
   "execution_count": 7,
   "id": "f4c404af",
   "metadata": {},
   "outputs": [
    {
     "name": "stdout",
     "output_type": "stream",
     "text": [
      "Enter distance in Km. 6\n",
      "6 km is equal to 3.73 mile.\n"
     ]
    }
   ],
   "source": [
    "distance_in_km = int(input(\"Enter distance in Km. \"))\n",
    "distance_in_mile = round(distance_in_km*0.621371,2)\n",
    "print(f\"{distance_in_km} km is equal to {distance_in_mile} mile.\")"
   ]
  },
  {
   "cell_type": "raw",
   "id": "ab183b9f",
   "metadata": {},
   "source": [
    "2. Write a Python program to convert Celsius to Fahrenheit?"
   ]
  },
  {
   "cell_type": "code",
   "execution_count": 9,
   "id": "1a373ae0",
   "metadata": {},
   "outputs": [
    {
     "name": "stdout",
     "output_type": "stream",
     "text": [
      "Enter your temp in celsius. 0\n",
      "0 degree celsius is equal to 32.0 degree fahrenheit.\n"
     ]
    }
   ],
   "source": [
    "cel_temp = int(input(\"Enter your temp in celsius. \"))\n",
    "fah_temp = (cel_temp*(9/5))+32\n",
    "print(f\"{cel_temp} degree celsius is equal to {fah_temp} degree fahrenheit.\")"
   ]
  },
  {
   "cell_type": "raw",
   "id": "a9e775a0",
   "metadata": {},
   "source": [
    "3. Write a Python program to display calendar?"
   ]
  },
  {
   "cell_type": "code",
   "execution_count": 11,
   "id": "7f38f72f",
   "metadata": {},
   "outputs": [
    {
     "name": "stdout",
     "output_type": "stream",
     "text": [
      "Enter year: 2022\n",
      "Enter month: 6\n",
      "     June 2022\n",
      "Mo Tu We Th Fr Sa Su\n",
      "       1  2  3  4  5\n",
      " 6  7  8  9 10 11 12\n",
      "13 14 15 16 17 18 19\n",
      "20 21 22 23 24 25 26\n",
      "27 28 29 30\n",
      "\n"
     ]
    }
   ],
   "source": [
    "import calendar\n",
    "year = int(input(\"Enter year: \"))\n",
    "month = int(input(\"Enter month: \"))\n",
    "\n",
    "print(calendar.month(year,month))"
   ]
  },
  {
   "cell_type": "raw",
   "id": "62fb7b95",
   "metadata": {},
   "source": [
    "4. Write a Python program to solve quadratic equation?"
   ]
  },
  {
   "cell_type": "code",
   "execution_count": 18,
   "id": "7fa77ac1",
   "metadata": {},
   "outputs": [
    {
     "name": "stdout",
     "output_type": "stream",
     "text": [
      "the solution of the quadratic equation 1x**2 + 5x + 6 is -3.0 and -2.0\n"
     ]
    }
   ],
   "source": [
    "import math\n",
    "a = 1\n",
    "b = 5\n",
    "c= 6\n",
    "#calculate the discriminant \n",
    "d = (b**2) - (4*a*c)\n",
    "solution_1 = (-b-math.sqrt(d))/(2*a)\n",
    "solution_2 = (-b+math.sqrt(d))/(2*a)\n",
    "print(f\"the solution of the quadratic equation {a}x**2 + {b}x + {c} is {solution_1} and {solution_2}\")"
   ]
  },
  {
   "cell_type": "raw",
   "id": "0a2dae79",
   "metadata": {},
   "source": [
    "5. Write a Python program to swap two variables without temp variable?"
   ]
  },
  {
   "cell_type": "code",
   "execution_count": 12,
   "id": "0c115f49",
   "metadata": {},
   "outputs": [
    {
     "name": "stdout",
     "output_type": "stream",
     "text": [
      "a: 4\n",
      "b: 6\n"
     ]
    }
   ],
   "source": [
    "a = 6\n",
    "b = 4\n",
    "a,b = b,a \n",
    "print(f\"a: {a}\\nb: {b}\")"
   ]
  },
  {
   "cell_type": "code",
   "execution_count": null,
   "id": "38d56859",
   "metadata": {},
   "outputs": [],
   "source": []
  }
 ],
 "metadata": {
  "kernelspec": {
   "display_name": "Python 3 (ipykernel)",
   "language": "python",
   "name": "python3"
  },
  "language_info": {
   "codemirror_mode": {
    "name": "ipython",
    "version": 3
   },
   "file_extension": ".py",
   "mimetype": "text/x-python",
   "name": "python",
   "nbconvert_exporter": "python",
   "pygments_lexer": "ipython3",
   "version": "3.9.7"
  }
 },
 "nbformat": 4,
 "nbformat_minor": 5
}

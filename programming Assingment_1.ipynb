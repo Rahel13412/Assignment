{
 "cells": [
  {
   "cell_type": "raw",
   "id": "811fc4ec",
   "metadata": {},
   "source": [
    "1. Write a Python program to print \"Hello Python\""
   ]
  },
  {
   "cell_type": "code",
   "execution_count": 1,
   "id": "d975ddd7",
   "metadata": {},
   "outputs": [
    {
     "name": "stdout",
     "output_type": "stream",
     "text": [
      "Hello Python\n"
     ]
    }
   ],
   "source": [
    "print(\"Hello Python\")"
   ]
  },
  {
   "cell_type": "raw",
   "id": "eecda974",
   "metadata": {},
   "source": [
    "2. Write a Python program to do arithmetical operations addition and division.?"
   ]
  },
  {
   "cell_type": "code",
   "execution_count": 2,
   "id": "f9b24c51",
   "metadata": {},
   "outputs": [
    {
     "name": "stdout",
     "output_type": "stream",
     "text": [
      "addition of 6 + 3 is : 9\n",
      "division of 6 / 3 is :2.0\n"
     ]
    }
   ],
   "source": [
    "a = 6\n",
    "b = 3\n",
    "c = a+b\n",
    "d = a/b\n",
    "print(f\"addition of {a} + {b} is : {c}\\ndivision of {a} / {b} is :{d}\")"
   ]
  },
  {
   "cell_type": "raw",
   "id": "2a0b8c81",
   "metadata": {},
   "source": [
    "3. Write a Python program to find the area of a triangle?"
   ]
  },
  {
   "cell_type": "code",
   "execution_count": 1,
   "id": "c4d95c2d",
   "metadata": {},
   "outputs": [
    {
     "name": "stdout",
     "output_type": "stream",
     "text": [
      "Enter the base of the triangle in cm. :6\n",
      "Enter the height of the triangle in cm. 4\n",
      "The area of the triangle is 12.0 square cm. \n"
     ]
    }
   ],
   "source": [
    "base = int(input(\"Enter the base of the triangle in cm. :\"))\n",
    "height = int(input(\"Enter the height of the triangle in cm. \"))\n",
    "area = 0.5*base*height\n",
    "print(f\"The area of the triangle is {area} square cm. \")"
   ]
  },
  {
   "cell_type": "raw",
   "id": "6884dd75",
   "metadata": {},
   "source": [
    "4. Write a Python program to swap two variables?"
   ]
  },
  {
   "cell_type": "code",
   "execution_count": 2,
   "id": "83e0adb1",
   "metadata": {},
   "outputs": [
    {
     "name": "stdout",
     "output_type": "stream",
     "text": [
      "a : 7\n",
      "b : 5\n"
     ]
    }
   ],
   "source": [
    "a = 5 \n",
    "b = 7 \n",
    "a,b = b,a \n",
    "print(f\"a : {a}\\nb : {b}\")"
   ]
  },
  {
   "cell_type": "raw",
   "id": "11323974",
   "metadata": {},
   "source": [
    "5. Write a Python program to generate a random number?"
   ]
  },
  {
   "cell_type": "code",
   "execution_count": null,
   "id": "249baefe",
   "metadata": {},
   "outputs": [],
   "source": [
    "import random \n",
    "number = random.randint(0,10)\n",
    "print(\"the \")\n"
   ]
  },
  {
   "cell_type": "code",
   "execution_count": null,
   "id": "ff8c2439",
   "metadata": {},
   "outputs": [],
   "source": []
  }
 ],
 "metadata": {
  "kernelspec": {
   "display_name": "Python 3 (ipykernel)",
   "language": "python",
   "name": "python3"
  },
  "language_info": {
   "codemirror_mode": {
    "name": "ipython",
    "version": 3
   },
   "file_extension": ".py",
   "mimetype": "text/x-python",
   "name": "python",
   "nbconvert_exporter": "python",
   "pygments_lexer": "ipython3",
   "version": "3.9.7"
  }
 },
 "nbformat": 4,
 "nbformat_minor": 5
}
